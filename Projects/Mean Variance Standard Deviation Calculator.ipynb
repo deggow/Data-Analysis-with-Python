{
 "cells": [
  {
   "cell_type": "code",
   "execution_count": 28,
   "id": "963d8670",
   "metadata": {},
   "outputs": [],
   "source": [
    "import numpy as np"
   ]
  },
  {
   "cell_type": "code",
   "execution_count": 29,
   "id": "af878897",
   "metadata": {},
   "outputs": [],
   "source": [
    "def mean_var_std (list):\n",
    "    list_np = np.array(list)\n",
    "    matrix = list_np.reshape((3,3))\n",
    "    calculations = {\n",
    "        'mean' : [np.mean(matrix, axis=0), np.mean(matrix, axis=1), np.mean(list)],\n",
    "        'variance' : [np.var(matrix, axis=0), np.var(matrix, axis=1), np.var(list)],\n",
    "        'standard deviation' : [np.std(matrix, axis=0), np.std(matrix, axis=1), np.std(list)],\n",
    "        'max' : [np.max(matrix, axis=0), np.max(matrix, axis=1), np.max(list)],\n",
    "        'min' : [np.min(matrix, axis=0), np.min(matrix, axis=1), np.min(list)],\n",
    "        'sum' : [np.sum(matrix, axis=0), np.sum(matrix, axis=1), np.sum(list)],\n",
    "    }\n",
    "    return calculations"
   ]
  },
  {
   "cell_type": "code",
   "execution_count": 30,
   "id": "4c8c7415",
   "metadata": {},
   "outputs": [
    {
     "data": {
      "text/plain": [
       "{'mean': [array([3., 4., 5.]), array([1., 4., 7.]), 4.0],\n",
       " 'variance': [array([6., 6., 6.]),\n",
       "  array([0.66666667, 0.66666667, 0.66666667]),\n",
       "  6.666666666666667],\n",
       " 'standard deviation': [array([2.44948974, 2.44948974, 2.44948974]),\n",
       "  array([0.81649658, 0.81649658, 0.81649658]),\n",
       "  2.581988897471611],\n",
       " 'max': [array([6, 7, 8]), array([2, 5, 8]), 8],\n",
       " 'min': [array([0, 1, 2]), array([0, 3, 6]), 0],\n",
       " 'sum': [array([ 9, 12, 15]), array([ 3, 12, 21]), 36]}"
      ]
     },
     "execution_count": 30,
     "metadata": {},
     "output_type": "execute_result"
    }
   ],
   "source": [
    "mean_var_std([0,1,2,3,4,5,6,7,8])"
   ]
  },
  {
   "cell_type": "code",
   "execution_count": null,
   "id": "58c73dbc",
   "metadata": {},
   "outputs": [],
   "source": []
  },
  {
   "cell_type": "code",
   "execution_count": null,
   "id": "df9ef743",
   "metadata": {},
   "outputs": [],
   "source": []
  },
  {
   "cell_type": "code",
   "execution_count": null,
   "id": "6d72cf03",
   "metadata": {},
   "outputs": [],
   "source": []
  },
  {
   "cell_type": "code",
   "execution_count": null,
   "id": "34f560d4",
   "metadata": {},
   "outputs": [],
   "source": []
  },
  {
   "cell_type": "code",
   "execution_count": null,
   "id": "7f735191",
   "metadata": {},
   "outputs": [],
   "source": []
  },
  {
   "cell_type": "code",
   "execution_count": null,
   "id": "29f7dad1",
   "metadata": {},
   "outputs": [],
   "source": []
  },
  {
   "cell_type": "code",
   "execution_count": null,
   "id": "1dc049c0",
   "metadata": {},
   "outputs": [],
   "source": []
  },
  {
   "cell_type": "code",
   "execution_count": null,
   "id": "e950447d",
   "metadata": {},
   "outputs": [],
   "source": []
  },
  {
   "cell_type": "code",
   "execution_count": null,
   "id": "b648e780",
   "metadata": {},
   "outputs": [],
   "source": []
  },
  {
   "cell_type": "code",
   "execution_count": null,
   "id": "de857f22",
   "metadata": {},
   "outputs": [],
   "source": []
  },
  {
   "cell_type": "code",
   "execution_count": null,
   "id": "d59af6ac",
   "metadata": {},
   "outputs": [],
   "source": []
  },
  {
   "cell_type": "code",
   "execution_count": null,
   "id": "6304ce3d",
   "metadata": {},
   "outputs": [],
   "source": []
  },
  {
   "cell_type": "code",
   "execution_count": null,
   "id": "c88c4c4d",
   "metadata": {},
   "outputs": [],
   "source": []
  },
  {
   "cell_type": "code",
   "execution_count": null,
   "id": "49b871ee",
   "metadata": {},
   "outputs": [],
   "source": []
  },
  {
   "cell_type": "code",
   "execution_count": null,
   "id": "c4b3000a",
   "metadata": {},
   "outputs": [],
   "source": []
  },
  {
   "cell_type": "code",
   "execution_count": null,
   "id": "41ea9983",
   "metadata": {},
   "outputs": [],
   "source": []
  },
  {
   "cell_type": "code",
   "execution_count": null,
   "id": "094c5c87",
   "metadata": {},
   "outputs": [],
   "source": []
  },
  {
   "cell_type": "code",
   "execution_count": null,
   "id": "04a7572d",
   "metadata": {},
   "outputs": [],
   "source": []
  },
  {
   "cell_type": "code",
   "execution_count": null,
   "id": "8589fec6",
   "metadata": {},
   "outputs": [],
   "source": []
  }
 ],
 "metadata": {
  "kernelspec": {
   "display_name": "Python 3 (ipykernel)",
   "language": "python",
   "name": "python3"
  },
  "language_info": {
   "codemirror_mode": {
    "name": "ipython",
    "version": 3
   },
   "file_extension": ".py",
   "mimetype": "text/x-python",
   "name": "python",
   "nbconvert_exporter": "python",
   "pygments_lexer": "ipython3",
   "version": "3.8.10"
  }
 },
 "nbformat": 4,
 "nbformat_minor": 5
}
